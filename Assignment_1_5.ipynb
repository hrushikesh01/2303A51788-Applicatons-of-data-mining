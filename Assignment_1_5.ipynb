{
  "nbformat": 4,
  "nbformat_minor": 0,
  "metadata": {
    "colab": {
      "provenance": [],
      "authorship_tag": "ABX9TyPkKUkOjVY7MSwW1Qd/uCEn",
      "include_colab_link": true
    },
    "kernelspec": {
      "name": "python3",
      "display_name": "Python 3"
    },
    "language_info": {
      "name": "python"
    }
  },
  "cells": [
    {
      "cell_type": "markdown",
      "metadata": {
        "id": "view-in-github",
        "colab_type": "text"
      },
      "source": [
        "<a href=\"https://colab.research.google.com/github/hrushikesh01/2303A51788-Applicatons-of-data-mining/blob/main/Assignment_1_5.ipynb\" target=\"_parent\"><img src=\"https://colab.research.google.com/assets/colab-badge.svg\" alt=\"Open In Colab\"/></a>"
      ]
    },
    {
      "cell_type": "code",
      "source": [
        "import pandas as pd\n",
        "from sklearn.preprocessing import MinMaxScaler\n"
      ],
      "metadata": {
        "id": "UA4fx6byzaV5"
      },
      "execution_count": 8,
      "outputs": []
    },
    {
      "cell_type": "code",
      "source": [
        "file_path = \"/content/student-dataset.csv\"\n",
        "df = pd.read_csv(file_path)"
      ],
      "metadata": {
        "id": "Pt7n_SLI10wt"
      },
      "execution_count": 9,
      "outputs": []
    },
    {
      "cell_type": "code",
      "source": [
        "print(\"Original Dataset:\")\n",
        "print(df.head())"
      ],
      "metadata": {
        "colab": {
          "base_uri": "https://localhost:8080/"
        },
        "id": "uiahIc6b17bH",
        "outputId": "8aac1386-787d-4fb5-992b-0dd548bf40fc"
      },
      "execution_count": 10,
      "outputs": [
        {
          "output_type": "stream",
          "name": "stdout",
          "text": [
            "Original Dataset:\n",
            "   id             name               nationality                 city  \\\n",
            "0   0        Kiana Lor                     China               Suzhou   \n",
            "1   1   Joshua Lonaker  United States of America        Santa Clarita   \n",
            "2   2    Dakota Blanco  United States of America              Oakland   \n",
            "3   3  Natasha Yarusso  United States of America        Castro Valley   \n",
            "4   4   Brooke Cazares                    Brazil  São José dos Campos   \n",
            "\n",
            "   latitude  longitude gender  age  english.grade  math.grade  sciences.grade  \\\n",
            "0     31.31     120.62      F   22            3.5         3.7             3.1   \n",
            "1     34.39    -118.54      M   22            2.9         3.2             3.6   \n",
            "2     37.80    -122.27      F   22            3.9         3.8             3.2   \n",
            "3     37.69    -122.09      F   20            3.3         2.8             NaN   \n",
            "4    -23.18     -45.88      F   21            3.7         2.6             3.4   \n",
            "\n",
            "   language.grade  portfolio.rating  coverletter.rating  refletter.rating  \n",
            "0             1.0                 4                 4.0                 4  \n",
            "1             5.0                 5                 4.0                 5  \n",
            "2             5.0                 3                 3.0                 4  \n",
            "3             5.0                 5                 2.0                 4  \n",
            "4             1.0                 4                 4.0                 5  \n"
          ]
        }
      ]
    },
    {
      "cell_type": "code",
      "source": [
        "df['sciences.grade'].fillna(df['sciences.grade'].median(), inplace=True)"
      ],
      "metadata": {
        "colab": {
          "base_uri": "https://localhost:8080/"
        },
        "id": "NiBI9pf-1-Rt",
        "outputId": "85100836-c025-441d-a683-7972f34f32ef"
      },
      "execution_count": 11,
      "outputs": [
        {
          "output_type": "stream",
          "name": "stderr",
          "text": [
            "<ipython-input-11-57c5408ae8f7>:1: FutureWarning: A value is trying to be set on a copy of a DataFrame or Series through chained assignment using an inplace method.\n",
            "The behavior will change in pandas 3.0. This inplace method will never work because the intermediate object on which we are setting values always behaves as a copy.\n",
            "\n",
            "For example, when doing 'df[col].method(value, inplace=True)', try using 'df.method({col: value}, inplace=True)' or df[col] = df[col].method(value) instead, to perform the operation inplace on the original object.\n",
            "\n",
            "\n",
            "  df['sciences.grade'].fillna(df['sciences.grade'].median(), inplace=True)\n"
          ]
        }
      ]
    },
    {
      "cell_type": "code",
      "source": [
        "scaler = MinMaxScaler()\n",
        "df[['math.grade', 'sciences.grade', 'english.grade']] = scaler.fit_transform(df[['math.grade', 'sciences.grade', 'english.grade']])\n"
      ],
      "metadata": {
        "id": "bTFaNMoN2TrK"
      },
      "execution_count": 12,
      "outputs": []
    },
    {
      "cell_type": "code",
      "source": [
        "print(\"\\nDataset after Imputation and Normalization:\")\n",
        "print(df.head())"
      ],
      "metadata": {
        "colab": {
          "base_uri": "https://localhost:8080/"
        },
        "id": "VnU7sY7U2ZsS",
        "outputId": "d63ff031-df46-4619-e95a-62e1a6d56260"
      },
      "execution_count": 13,
      "outputs": [
        {
          "output_type": "stream",
          "name": "stdout",
          "text": [
            "\n",
            "Dataset after Imputation and Normalization:\n",
            "   id             name               nationality                 city  \\\n",
            "0   0        Kiana Lor                     China               Suzhou   \n",
            "1   1   Joshua Lonaker  United States of America        Santa Clarita   \n",
            "2   2    Dakota Blanco  United States of America              Oakland   \n",
            "3   3  Natasha Yarusso  United States of America        Castro Valley   \n",
            "4   4   Brooke Cazares                    Brazil  São José dos Campos   \n",
            "\n",
            "   latitude  longitude gender  age  english.grade  math.grade  sciences.grade  \\\n",
            "0     31.31     120.62      F   22           0.80    0.842105        0.653846   \n",
            "1     34.39    -118.54      M   22           0.56    0.578947        0.846154   \n",
            "2     37.80    -122.27      F   22           0.96    0.894737        0.692308   \n",
            "3     37.69    -122.09      F   20           0.72    0.368421        0.846154   \n",
            "4    -23.18     -45.88      F   21           0.88    0.263158        0.769231   \n",
            "\n",
            "   language.grade  portfolio.rating  coverletter.rating  refletter.rating  \n",
            "0             1.0                 4                 4.0                 4  \n",
            "1             5.0                 5                 4.0                 5  \n",
            "2             5.0                 3                 3.0                 4  \n",
            "3             5.0                 5                 2.0                 4  \n",
            "4             1.0                 4                 4.0                 5  \n"
          ]
        }
      ]
    },
    {
      "cell_type": "code",
      "source": [
        "output_path = \"/content/student-dataset.csv\"\n",
        "df.to_csv(output_path, index=False)\n",
        "print(f\"\\nCleaned dataset saved to: {output_path}\")"
      ],
      "metadata": {
        "colab": {
          "base_uri": "https://localhost:8080/"
        },
        "id": "J1F8tsdd2cu5",
        "outputId": "34e955d4-e9ec-461f-aca9-8e25d0e13065"
      },
      "execution_count": 14,
      "outputs": [
        {
          "output_type": "stream",
          "name": "stdout",
          "text": [
            "\n",
            "Cleaned dataset saved to: /content/student-dataset.csv\n"
          ]
        }
      ]
    }
  ]
}